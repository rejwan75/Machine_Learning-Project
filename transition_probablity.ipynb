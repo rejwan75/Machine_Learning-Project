{
  "nbformat": 4,
  "nbformat_minor": 0,
  "metadata": {
    "colab": {
      "provenance": [],
      "authorship_tag": "ABX9TyMOsoaFIc2emP0sClG0oTF8",
      "include_colab_link": true
    },
    "kernelspec": {
      "name": "python3",
      "display_name": "Python 3"
    },
    "language_info": {
      "name": "python"
    }
  },
  "cells": [
    {
      "cell_type": "markdown",
      "metadata": {
        "id": "view-in-github",
        "colab_type": "text"
      },
      "source": [
        "<a href=\"https://colab.research.google.com/github/rejwan75/Machine_Learning-Project/blob/main/transition_probablity.ipynb\" target=\"_parent\"><img src=\"https://colab.research.google.com/assets/colab-badge.svg\" alt=\"Open In Colab\"/></a>"
      ]
    },
    {
      "cell_type": "code",
      "execution_count": null,
      "metadata": {
        "colab": {
          "base_uri": "https://localhost:8080/"
        },
        "id": "RGCIGLn6SLEK",
        "outputId": "7adf4a40-8a1e-486d-f84d-077a0d1ff62c"
      },
      "outputs": [
        {
          "output_type": "stream",
          "name": "stdout",
          "text": [
            "Transition Matrix:\n",
            "[[0.         0.66666667 0.33333333]\n",
            " [0.25       0.         0.75      ]\n",
            " [0.5        0.5        0.        ]]\n"
          ]
        }
      ],
      "source": [
        "import numpy as np\n",
        "\n",
        "def generate_transition_matrix(states_sequence, num_states):\n",
        "    transition_matrix = np.zeros((num_states, num_states))\n",
        "\n",
        "    for i in range(len(states_sequence) - 1):\n",
        "        current_state = states_sequence[i]\n",
        "        next_state = states_sequence[i + 1]\n",
        "        transition_matrix[current_state, next_state] += 1\n",
        "\n",
        "\n",
        "    row_sums = transition_matrix.sum(axis=1, keepdims=True)\n",
        "    transition_matrix = transition_matrix / row_sums\n",
        "\n",
        "    return transition_matrix\n",
        "\n",
        "states_sequence = [0, 1, 2, 1, 0, 2, 1, 2, 0, 1, 2, 0]\n",
        "\n",
        "\n",
        "num_states = 3\n",
        "\n",
        "\n",
        "transition_matrix = generate_transition_matrix(states_sequence, num_states)\n",
        "print(\"Transition Matrix:\")\n",
        "print(transition_matrix)\n"
      ]
    }
  ]
}