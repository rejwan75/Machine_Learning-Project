{
  "nbformat": 4,
  "nbformat_minor": 0,
  "metadata": {
    "colab": {
      "provenance": [],
      "authorship_tag": "ABX9TyPhEJ6FdvFoQ4nkaslEB3UI",
      "include_colab_link": true
    },
    "kernelspec": {
      "name": "python3",
      "display_name": "Python 3"
    },
    "language_info": {
      "name": "python"
    }
  },
  "cells": [
    {
      "cell_type": "markdown",
      "metadata": {
        "id": "view-in-github",
        "colab_type": "text"
      },
      "source": [
        "<a href=\"https://colab.research.google.com/github/rejwan75/Machine_Learning-Project/blob/main/Stacks.ipynb\" target=\"_parent\"><img src=\"https://colab.research.google.com/assets/colab-badge.svg\" alt=\"Open In Colab\"/></a>"
      ]
    },
    {
      "cell_type": "code",
      "execution_count": null,
      "metadata": {
        "id": "87rJuRo-EzoL",
        "outputId": "43ef70e2-72d6-4d49-f705-ac4e48953f48",
        "colab": {
          "base_uri": "https://localhost:8080/"
        }
      },
      "outputs": [
        {
          "output_type": "stream",
          "name": "stdout",
          "text": [
            "Stack:  ['A', 'B', 'C']\n",
            "Pop:  C\n",
            "Stack after Pop:  ['A', 'B']\n",
            "Peek:  B\n",
            "isEmpty:  False\n",
            "Size:  2\n"
          ]
        }
      ],
      "source": [
        "class Stack:\n",
        "  def __init__(self):\n",
        "    self.stack = []\n",
        "\n",
        "  def push(self, element):\n",
        "    self.stack.append(element)\n",
        "\n",
        "  def pop(self):\n",
        "    if self.isEmpty():\n",
        "      return \"Stack is empty\"\n",
        "    return self.stack.pop()\n",
        "\n",
        "  def peek(self):\n",
        "    if self.isEmpty():\n",
        "      return \"Stack is empty\"\n",
        "    return self.stack[-1]\n",
        "\n",
        "  def isEmpty(self):\n",
        "    return len(self.stack) == 0\n",
        "\n",
        "  def size(self):\n",
        "    return len(self.stack)\n",
        "\n",
        "# Create a stack\n",
        "myStack = Stack()\n",
        "\n",
        "myStack.push('A')\n",
        "myStack.push('B')\n",
        "myStack.push('C')\n",
        "\n",
        "print(\"Stack: \", myStack.stack)\n",
        "print(\"Pop: \", myStack.pop())\n",
        "print(\"Stack after Pop: \", myStack.stack)\n",
        "print(\"Peek: \", myStack.peek())\n",
        "print(\"isEmpty: \", myStack.isEmpty())\n",
        "print(\"Size: \", myStack.size())"
      ]
    }
  ]
}